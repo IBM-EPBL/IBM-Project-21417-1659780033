{
  "nbformat": 4,
  "nbformat_minor": 0,
  "metadata": {
    "colab": {
      "provenance": []
    },
    "kernelspec": {
      "name": "python3",
      "display_name": "Python 3"
    },
    "language_info": {
      "name": "python"
    }
  },
  "cells": [
    {
      "cell_type": "code",
      "execution_count": 1,
      "metadata": {
        "colab": {
          "base_uri": "https://localhost:8080/"
        },
        "id": "ESHAinTdqPQR",
        "outputId": "79bbeda3-b041-4707-d471-26de5d824e8d"
      },
      "outputs": [
        {
          "output_type": "stream",
          "name": "stdout",
          "text": [
            "Mounted at /content/drive\n"
          ]
        }
      ],
      "source": [
        "from google.colab import drive\n",
        "drive.mount('/content/drive')"
      ]
    },
    {
      "cell_type": "code",
      "source": [
        "import pandas as pd\n",
        "import numpy as np\n",
        "import seaborn as sns"
      ],
      "metadata": {
        "id": "wm_8yUStqQSL"
      },
      "execution_count": 2,
      "outputs": []
    },
    {
      "cell_type": "code",
      "source": [
        "data=pd.read_csv(\"/content/drive/MyDrive/IBM dataset/dataset_website.csv\")"
      ],
      "metadata": {
        "id": "GonSRkGNqUuM"
      },
      "execution_count": 3,
      "outputs": []
    },
    {
      "cell_type": "code",
      "source": [
        "data"
      ],
      "metadata": {
        "colab": {
          "base_uri": "https://localhost:8080/",
          "height": 488
        },
        "id": "RDqga7-Qq1Lf",
        "outputId": "99f8f717-2566-4bee-b235-e5bbfb304ab5"
      },
      "execution_count": 4,
      "outputs": [
        {
          "output_type": "execute_result",
          "data": {
            "text/plain": [
              "       index  having_IPhaving_IP_Address  URLURL_Length  Shortining_Service  \\\n",
              "0          1                          -1              1                   1   \n",
              "1          2                           1              1                   1   \n",
              "2          3                           1              0                   1   \n",
              "3          4                           1              0                   1   \n",
              "4          5                           1              0                  -1   \n",
              "...      ...                         ...            ...                 ...   \n",
              "11050  11051                           1             -1                   1   \n",
              "11051  11052                          -1              1                   1   \n",
              "11052  11053                           1             -1                   1   \n",
              "11053  11054                          -1             -1                   1   \n",
              "11054  11055                          -1             -1                   1   \n",
              "\n",
              "       having_At_Symbol  double_slash_redirecting  Prefix_Suffix  \\\n",
              "0                     1                        -1             -1   \n",
              "1                     1                         1             -1   \n",
              "2                     1                         1             -1   \n",
              "3                     1                         1             -1   \n",
              "4                     1                         1             -1   \n",
              "...                 ...                       ...            ...   \n",
              "11050                -1                         1              1   \n",
              "11051                -1                        -1             -1   \n",
              "11052                 1                         1             -1   \n",
              "11053                 1                         1             -1   \n",
              "11054                 1                         1             -1   \n",
              "\n",
              "       having_Sub_Domain  SSLfinal_State  Domain_registeration_length  ...  \\\n",
              "0                     -1              -1                           -1  ...   \n",
              "1                      0               1                           -1  ...   \n",
              "2                     -1              -1                           -1  ...   \n",
              "3                     -1              -1                            1  ...   \n",
              "4                      1               1                           -1  ...   \n",
              "...                  ...             ...                          ...  ...   \n",
              "11050                  1               1                           -1  ...   \n",
              "11051                  1              -1                           -1  ...   \n",
              "11052                  1              -1                           -1  ...   \n",
              "11053                 -1              -1                            1  ...   \n",
              "11054                 -1              -1                            1  ...   \n",
              "\n",
              "       popUpWidnow  Iframe  age_of_domain  DNSRecord  web_traffic  Page_Rank  \\\n",
              "0                1       1             -1         -1           -1         -1   \n",
              "1                1       1             -1         -1            0         -1   \n",
              "2                1       1              1         -1            1         -1   \n",
              "3                1       1             -1         -1            1         -1   \n",
              "4               -1       1             -1         -1            0         -1   \n",
              "...            ...     ...            ...        ...          ...        ...   \n",
              "11050           -1      -1              1          1           -1         -1   \n",
              "11051           -1       1              1          1            1          1   \n",
              "11052            1       1              1          1            1         -1   \n",
              "11053           -1       1              1          1            1         -1   \n",
              "11054            1       1             -1          1           -1         -1   \n",
              "\n",
              "       Google_Index  Links_pointing_to_page  Statistical_report  Result  \n",
              "0                 1                       1                  -1      -1  \n",
              "1                 1                       1                   1      -1  \n",
              "2                 1                       0                  -1      -1  \n",
              "3                 1                      -1                   1      -1  \n",
              "4                 1                       1                   1       1  \n",
              "...             ...                     ...                 ...     ...  \n",
              "11050             1                       1                   1       1  \n",
              "11051             1                      -1                   1      -1  \n",
              "11052             1                       0                   1      -1  \n",
              "11053             1                       1                   1      -1  \n",
              "11054            -1                       1                  -1      -1  \n",
              "\n",
              "[11055 rows x 32 columns]"
            ],
            "text/html": [
              "\n",
              "  <div id=\"df-b7ba9e81-e07d-4ab1-b9df-78663b9648d6\">\n",
              "    <div class=\"colab-df-container\">\n",
              "      <div>\n",
              "<style scoped>\n",
              "    .dataframe tbody tr th:only-of-type {\n",
              "        vertical-align: middle;\n",
              "    }\n",
              "\n",
              "    .dataframe tbody tr th {\n",
              "        vertical-align: top;\n",
              "    }\n",
              "\n",
              "    .dataframe thead th {\n",
              "        text-align: right;\n",
              "    }\n",
              "</style>\n",
              "<table border=\"1\" class=\"dataframe\">\n",
              "  <thead>\n",
              "    <tr style=\"text-align: right;\">\n",
              "      <th></th>\n",
              "      <th>index</th>\n",
              "      <th>having_IPhaving_IP_Address</th>\n",
              "      <th>URLURL_Length</th>\n",
              "      <th>Shortining_Service</th>\n",
              "      <th>having_At_Symbol</th>\n",
              "      <th>double_slash_redirecting</th>\n",
              "      <th>Prefix_Suffix</th>\n",
              "      <th>having_Sub_Domain</th>\n",
              "      <th>SSLfinal_State</th>\n",
              "      <th>Domain_registeration_length</th>\n",
              "      <th>...</th>\n",
              "      <th>popUpWidnow</th>\n",
              "      <th>Iframe</th>\n",
              "      <th>age_of_domain</th>\n",
              "      <th>DNSRecord</th>\n",
              "      <th>web_traffic</th>\n",
              "      <th>Page_Rank</th>\n",
              "      <th>Google_Index</th>\n",
              "      <th>Links_pointing_to_page</th>\n",
              "      <th>Statistical_report</th>\n",
              "      <th>Result</th>\n",
              "    </tr>\n",
              "  </thead>\n",
              "  <tbody>\n",
              "    <tr>\n",
              "      <th>0</th>\n",
              "      <td>1</td>\n",
              "      <td>-1</td>\n",
              "      <td>1</td>\n",
              "      <td>1</td>\n",
              "      <td>1</td>\n",
              "      <td>-1</td>\n",
              "      <td>-1</td>\n",
              "      <td>-1</td>\n",
              "      <td>-1</td>\n",
              "      <td>-1</td>\n",
              "      <td>...</td>\n",
              "      <td>1</td>\n",
              "      <td>1</td>\n",
              "      <td>-1</td>\n",
              "      <td>-1</td>\n",
              "      <td>-1</td>\n",
              "      <td>-1</td>\n",
              "      <td>1</td>\n",
              "      <td>1</td>\n",
              "      <td>-1</td>\n",
              "      <td>-1</td>\n",
              "    </tr>\n",
              "    <tr>\n",
              "      <th>1</th>\n",
              "      <td>2</td>\n",
              "      <td>1</td>\n",
              "      <td>1</td>\n",
              "      <td>1</td>\n",
              "      <td>1</td>\n",
              "      <td>1</td>\n",
              "      <td>-1</td>\n",
              "      <td>0</td>\n",
              "      <td>1</td>\n",
              "      <td>-1</td>\n",
              "      <td>...</td>\n",
              "      <td>1</td>\n",
              "      <td>1</td>\n",
              "      <td>-1</td>\n",
              "      <td>-1</td>\n",
              "      <td>0</td>\n",
              "      <td>-1</td>\n",
              "      <td>1</td>\n",
              "      <td>1</td>\n",
              "      <td>1</td>\n",
              "      <td>-1</td>\n",
              "    </tr>\n",
              "    <tr>\n",
              "      <th>2</th>\n",
              "      <td>3</td>\n",
              "      <td>1</td>\n",
              "      <td>0</td>\n",
              "      <td>1</td>\n",
              "      <td>1</td>\n",
              "      <td>1</td>\n",
              "      <td>-1</td>\n",
              "      <td>-1</td>\n",
              "      <td>-1</td>\n",
              "      <td>-1</td>\n",
              "      <td>...</td>\n",
              "      <td>1</td>\n",
              "      <td>1</td>\n",
              "      <td>1</td>\n",
              "      <td>-1</td>\n",
              "      <td>1</td>\n",
              "      <td>-1</td>\n",
              "      <td>1</td>\n",
              "      <td>0</td>\n",
              "      <td>-1</td>\n",
              "      <td>-1</td>\n",
              "    </tr>\n",
              "    <tr>\n",
              "      <th>3</th>\n",
              "      <td>4</td>\n",
              "      <td>1</td>\n",
              "      <td>0</td>\n",
              "      <td>1</td>\n",
              "      <td>1</td>\n",
              "      <td>1</td>\n",
              "      <td>-1</td>\n",
              "      <td>-1</td>\n",
              "      <td>-1</td>\n",
              "      <td>1</td>\n",
              "      <td>...</td>\n",
              "      <td>1</td>\n",
              "      <td>1</td>\n",
              "      <td>-1</td>\n",
              "      <td>-1</td>\n",
              "      <td>1</td>\n",
              "      <td>-1</td>\n",
              "      <td>1</td>\n",
              "      <td>-1</td>\n",
              "      <td>1</td>\n",
              "      <td>-1</td>\n",
              "    </tr>\n",
              "    <tr>\n",
              "      <th>4</th>\n",
              "      <td>5</td>\n",
              "      <td>1</td>\n",
              "      <td>0</td>\n",
              "      <td>-1</td>\n",
              "      <td>1</td>\n",
              "      <td>1</td>\n",
              "      <td>-1</td>\n",
              "      <td>1</td>\n",
              "      <td>1</td>\n",
              "      <td>-1</td>\n",
              "      <td>...</td>\n",
              "      <td>-1</td>\n",
              "      <td>1</td>\n",
              "      <td>-1</td>\n",
              "      <td>-1</td>\n",
              "      <td>0</td>\n",
              "      <td>-1</td>\n",
              "      <td>1</td>\n",
              "      <td>1</td>\n",
              "      <td>1</td>\n",
              "      <td>1</td>\n",
              "    </tr>\n",
              "    <tr>\n",
              "      <th>...</th>\n",
              "      <td>...</td>\n",
              "      <td>...</td>\n",
              "      <td>...</td>\n",
              "      <td>...</td>\n",
              "      <td>...</td>\n",
              "      <td>...</td>\n",
              "      <td>...</td>\n",
              "      <td>...</td>\n",
              "      <td>...</td>\n",
              "      <td>...</td>\n",
              "      <td>...</td>\n",
              "      <td>...</td>\n",
              "      <td>...</td>\n",
              "      <td>...</td>\n",
              "      <td>...</td>\n",
              "      <td>...</td>\n",
              "      <td>...</td>\n",
              "      <td>...</td>\n",
              "      <td>...</td>\n",
              "      <td>...</td>\n",
              "      <td>...</td>\n",
              "    </tr>\n",
              "    <tr>\n",
              "      <th>11050</th>\n",
              "      <td>11051</td>\n",
              "      <td>1</td>\n",
              "      <td>-1</td>\n",
              "      <td>1</td>\n",
              "      <td>-1</td>\n",
              "      <td>1</td>\n",
              "      <td>1</td>\n",
              "      <td>1</td>\n",
              "      <td>1</td>\n",
              "      <td>-1</td>\n",
              "      <td>...</td>\n",
              "      <td>-1</td>\n",
              "      <td>-1</td>\n",
              "      <td>1</td>\n",
              "      <td>1</td>\n",
              "      <td>-1</td>\n",
              "      <td>-1</td>\n",
              "      <td>1</td>\n",
              "      <td>1</td>\n",
              "      <td>1</td>\n",
              "      <td>1</td>\n",
              "    </tr>\n",
              "    <tr>\n",
              "      <th>11051</th>\n",
              "      <td>11052</td>\n",
              "      <td>-1</td>\n",
              "      <td>1</td>\n",
              "      <td>1</td>\n",
              "      <td>-1</td>\n",
              "      <td>-1</td>\n",
              "      <td>-1</td>\n",
              "      <td>1</td>\n",
              "      <td>-1</td>\n",
              "      <td>-1</td>\n",
              "      <td>...</td>\n",
              "      <td>-1</td>\n",
              "      <td>1</td>\n",
              "      <td>1</td>\n",
              "      <td>1</td>\n",
              "      <td>1</td>\n",
              "      <td>1</td>\n",
              "      <td>1</td>\n",
              "      <td>-1</td>\n",
              "      <td>1</td>\n",
              "      <td>-1</td>\n",
              "    </tr>\n",
              "    <tr>\n",
              "      <th>11052</th>\n",
              "      <td>11053</td>\n",
              "      <td>1</td>\n",
              "      <td>-1</td>\n",
              "      <td>1</td>\n",
              "      <td>1</td>\n",
              "      <td>1</td>\n",
              "      <td>-1</td>\n",
              "      <td>1</td>\n",
              "      <td>-1</td>\n",
              "      <td>-1</td>\n",
              "      <td>...</td>\n",
              "      <td>1</td>\n",
              "      <td>1</td>\n",
              "      <td>1</td>\n",
              "      <td>1</td>\n",
              "      <td>1</td>\n",
              "      <td>-1</td>\n",
              "      <td>1</td>\n",
              "      <td>0</td>\n",
              "      <td>1</td>\n",
              "      <td>-1</td>\n",
              "    </tr>\n",
              "    <tr>\n",
              "      <th>11053</th>\n",
              "      <td>11054</td>\n",
              "      <td>-1</td>\n",
              "      <td>-1</td>\n",
              "      <td>1</td>\n",
              "      <td>1</td>\n",
              "      <td>1</td>\n",
              "      <td>-1</td>\n",
              "      <td>-1</td>\n",
              "      <td>-1</td>\n",
              "      <td>1</td>\n",
              "      <td>...</td>\n",
              "      <td>-1</td>\n",
              "      <td>1</td>\n",
              "      <td>1</td>\n",
              "      <td>1</td>\n",
              "      <td>1</td>\n",
              "      <td>-1</td>\n",
              "      <td>1</td>\n",
              "      <td>1</td>\n",
              "      <td>1</td>\n",
              "      <td>-1</td>\n",
              "    </tr>\n",
              "    <tr>\n",
              "      <th>11054</th>\n",
              "      <td>11055</td>\n",
              "      <td>-1</td>\n",
              "      <td>-1</td>\n",
              "      <td>1</td>\n",
              "      <td>1</td>\n",
              "      <td>1</td>\n",
              "      <td>-1</td>\n",
              "      <td>-1</td>\n",
              "      <td>-1</td>\n",
              "      <td>1</td>\n",
              "      <td>...</td>\n",
              "      <td>1</td>\n",
              "      <td>1</td>\n",
              "      <td>-1</td>\n",
              "      <td>1</td>\n",
              "      <td>-1</td>\n",
              "      <td>-1</td>\n",
              "      <td>-1</td>\n",
              "      <td>1</td>\n",
              "      <td>-1</td>\n",
              "      <td>-1</td>\n",
              "    </tr>\n",
              "  </tbody>\n",
              "</table>\n",
              "<p>11055 rows × 32 columns</p>\n",
              "</div>\n",
              "      <button class=\"colab-df-convert\" onclick=\"convertToInteractive('df-b7ba9e81-e07d-4ab1-b9df-78663b9648d6')\"\n",
              "              title=\"Convert this dataframe to an interactive table.\"\n",
              "              style=\"display:none;\">\n",
              "        \n",
              "  <svg xmlns=\"http://www.w3.org/2000/svg\" height=\"24px\"viewBox=\"0 0 24 24\"\n",
              "       width=\"24px\">\n",
              "    <path d=\"M0 0h24v24H0V0z\" fill=\"none\"/>\n",
              "    <path d=\"M18.56 5.44l.94 2.06.94-2.06 2.06-.94-2.06-.94-.94-2.06-.94 2.06-2.06.94zm-11 1L8.5 8.5l.94-2.06 2.06-.94-2.06-.94L8.5 2.5l-.94 2.06-2.06.94zm10 10l.94 2.06.94-2.06 2.06-.94-2.06-.94-.94-2.06-.94 2.06-2.06.94z\"/><path d=\"M17.41 7.96l-1.37-1.37c-.4-.4-.92-.59-1.43-.59-.52 0-1.04.2-1.43.59L10.3 9.45l-7.72 7.72c-.78.78-.78 2.05 0 2.83L4 21.41c.39.39.9.59 1.41.59.51 0 1.02-.2 1.41-.59l7.78-7.78 2.81-2.81c.8-.78.8-2.07 0-2.86zM5.41 20L4 18.59l7.72-7.72 1.47 1.35L5.41 20z\"/>\n",
              "  </svg>\n",
              "      </button>\n",
              "      \n",
              "  <style>\n",
              "    .colab-df-container {\n",
              "      display:flex;\n",
              "      flex-wrap:wrap;\n",
              "      gap: 12px;\n",
              "    }\n",
              "\n",
              "    .colab-df-convert {\n",
              "      background-color: #E8F0FE;\n",
              "      border: none;\n",
              "      border-radius: 50%;\n",
              "      cursor: pointer;\n",
              "      display: none;\n",
              "      fill: #1967D2;\n",
              "      height: 32px;\n",
              "      padding: 0 0 0 0;\n",
              "      width: 32px;\n",
              "    }\n",
              "\n",
              "    .colab-df-convert:hover {\n",
              "      background-color: #E2EBFA;\n",
              "      box-shadow: 0px 1px 2px rgba(60, 64, 67, 0.3), 0px 1px 3px 1px rgba(60, 64, 67, 0.15);\n",
              "      fill: #174EA6;\n",
              "    }\n",
              "\n",
              "    [theme=dark] .colab-df-convert {\n",
              "      background-color: #3B4455;\n",
              "      fill: #D2E3FC;\n",
              "    }\n",
              "\n",
              "    [theme=dark] .colab-df-convert:hover {\n",
              "      background-color: #434B5C;\n",
              "      box-shadow: 0px 1px 3px 1px rgba(0, 0, 0, 0.15);\n",
              "      filter: drop-shadow(0px 1px 2px rgba(0, 0, 0, 0.3));\n",
              "      fill: #FFFFFF;\n",
              "    }\n",
              "  </style>\n",
              "\n",
              "      <script>\n",
              "        const buttonEl =\n",
              "          document.querySelector('#df-b7ba9e81-e07d-4ab1-b9df-78663b9648d6 button.colab-df-convert');\n",
              "        buttonEl.style.display =\n",
              "          google.colab.kernel.accessAllowed ? 'block' : 'none';\n",
              "\n",
              "        async function convertToInteractive(key) {\n",
              "          const element = document.querySelector('#df-b7ba9e81-e07d-4ab1-b9df-78663b9648d6');\n",
              "          const dataTable =\n",
              "            await google.colab.kernel.invokeFunction('convertToInteractive',\n",
              "                                                     [key], {});\n",
              "          if (!dataTable) return;\n",
              "\n",
              "          const docLinkHtml = 'Like what you see? Visit the ' +\n",
              "            '<a target=\"_blank\" href=https://colab.research.google.com/notebooks/data_table.ipynb>data table notebook</a>'\n",
              "            + ' to learn more about interactive tables.';\n",
              "          element.innerHTML = '';\n",
              "          dataTable['output_type'] = 'display_data';\n",
              "          await google.colab.output.renderOutput(dataTable, element);\n",
              "          const docLink = document.createElement('div');\n",
              "          docLink.innerHTML = docLinkHtml;\n",
              "          element.appendChild(docLink);\n",
              "        }\n",
              "      </script>\n",
              "    </div>\n",
              "  </div>\n",
              "  "
            ]
          },
          "metadata": {},
          "execution_count": 4
        }
      ]
    },
    {
      "cell_type": "code",
      "source": [
        "data.head()"
      ],
      "metadata": {
        "colab": {
          "base_uri": "https://localhost:8080/",
          "height": 300
        },
        "id": "wg88HbpLq9Nw",
        "outputId": "8bdd9312-ff39-4741-bffa-d12357089f96"
      },
      "execution_count": 5,
      "outputs": [
        {
          "output_type": "execute_result",
          "data": {
            "text/plain": [
              "   index  having_IPhaving_IP_Address  URLURL_Length  Shortining_Service  \\\n",
              "0      1                          -1              1                   1   \n",
              "1      2                           1              1                   1   \n",
              "2      3                           1              0                   1   \n",
              "3      4                           1              0                   1   \n",
              "4      5                           1              0                  -1   \n",
              "\n",
              "   having_At_Symbol  double_slash_redirecting  Prefix_Suffix  \\\n",
              "0                 1                        -1             -1   \n",
              "1                 1                         1             -1   \n",
              "2                 1                         1             -1   \n",
              "3                 1                         1             -1   \n",
              "4                 1                         1             -1   \n",
              "\n",
              "   having_Sub_Domain  SSLfinal_State  Domain_registeration_length  ...  \\\n",
              "0                 -1              -1                           -1  ...   \n",
              "1                  0               1                           -1  ...   \n",
              "2                 -1              -1                           -1  ...   \n",
              "3                 -1              -1                            1  ...   \n",
              "4                  1               1                           -1  ...   \n",
              "\n",
              "   popUpWidnow  Iframe  age_of_domain  DNSRecord  web_traffic  Page_Rank  \\\n",
              "0            1       1             -1         -1           -1         -1   \n",
              "1            1       1             -1         -1            0         -1   \n",
              "2            1       1              1         -1            1         -1   \n",
              "3            1       1             -1         -1            1         -1   \n",
              "4           -1       1             -1         -1            0         -1   \n",
              "\n",
              "   Google_Index  Links_pointing_to_page  Statistical_report  Result  \n",
              "0             1                       1                  -1      -1  \n",
              "1             1                       1                   1      -1  \n",
              "2             1                       0                  -1      -1  \n",
              "3             1                      -1                   1      -1  \n",
              "4             1                       1                   1       1  \n",
              "\n",
              "[5 rows x 32 columns]"
            ],
            "text/html": [
              "\n",
              "  <div id=\"df-2449ab6d-7e5e-4887-9505-518371837ee7\">\n",
              "    <div class=\"colab-df-container\">\n",
              "      <div>\n",
              "<style scoped>\n",
              "    .dataframe tbody tr th:only-of-type {\n",
              "        vertical-align: middle;\n",
              "    }\n",
              "\n",
              "    .dataframe tbody tr th {\n",
              "        vertical-align: top;\n",
              "    }\n",
              "\n",
              "    .dataframe thead th {\n",
              "        text-align: right;\n",
              "    }\n",
              "</style>\n",
              "<table border=\"1\" class=\"dataframe\">\n",
              "  <thead>\n",
              "    <tr style=\"text-align: right;\">\n",
              "      <th></th>\n",
              "      <th>index</th>\n",
              "      <th>having_IPhaving_IP_Address</th>\n",
              "      <th>URLURL_Length</th>\n",
              "      <th>Shortining_Service</th>\n",
              "      <th>having_At_Symbol</th>\n",
              "      <th>double_slash_redirecting</th>\n",
              "      <th>Prefix_Suffix</th>\n",
              "      <th>having_Sub_Domain</th>\n",
              "      <th>SSLfinal_State</th>\n",
              "      <th>Domain_registeration_length</th>\n",
              "      <th>...</th>\n",
              "      <th>popUpWidnow</th>\n",
              "      <th>Iframe</th>\n",
              "      <th>age_of_domain</th>\n",
              "      <th>DNSRecord</th>\n",
              "      <th>web_traffic</th>\n",
              "      <th>Page_Rank</th>\n",
              "      <th>Google_Index</th>\n",
              "      <th>Links_pointing_to_page</th>\n",
              "      <th>Statistical_report</th>\n",
              "      <th>Result</th>\n",
              "    </tr>\n",
              "  </thead>\n",
              "  <tbody>\n",
              "    <tr>\n",
              "      <th>0</th>\n",
              "      <td>1</td>\n",
              "      <td>-1</td>\n",
              "      <td>1</td>\n",
              "      <td>1</td>\n",
              "      <td>1</td>\n",
              "      <td>-1</td>\n",
              "      <td>-1</td>\n",
              "      <td>-1</td>\n",
              "      <td>-1</td>\n",
              "      <td>-1</td>\n",
              "      <td>...</td>\n",
              "      <td>1</td>\n",
              "      <td>1</td>\n",
              "      <td>-1</td>\n",
              "      <td>-1</td>\n",
              "      <td>-1</td>\n",
              "      <td>-1</td>\n",
              "      <td>1</td>\n",
              "      <td>1</td>\n",
              "      <td>-1</td>\n",
              "      <td>-1</td>\n",
              "    </tr>\n",
              "    <tr>\n",
              "      <th>1</th>\n",
              "      <td>2</td>\n",
              "      <td>1</td>\n",
              "      <td>1</td>\n",
              "      <td>1</td>\n",
              "      <td>1</td>\n",
              "      <td>1</td>\n",
              "      <td>-1</td>\n",
              "      <td>0</td>\n",
              "      <td>1</td>\n",
              "      <td>-1</td>\n",
              "      <td>...</td>\n",
              "      <td>1</td>\n",
              "      <td>1</td>\n",
              "      <td>-1</td>\n",
              "      <td>-1</td>\n",
              "      <td>0</td>\n",
              "      <td>-1</td>\n",
              "      <td>1</td>\n",
              "      <td>1</td>\n",
              "      <td>1</td>\n",
              "      <td>-1</td>\n",
              "    </tr>\n",
              "    <tr>\n",
              "      <th>2</th>\n",
              "      <td>3</td>\n",
              "      <td>1</td>\n",
              "      <td>0</td>\n",
              "      <td>1</td>\n",
              "      <td>1</td>\n",
              "      <td>1</td>\n",
              "      <td>-1</td>\n",
              "      <td>-1</td>\n",
              "      <td>-1</td>\n",
              "      <td>-1</td>\n",
              "      <td>...</td>\n",
              "      <td>1</td>\n",
              "      <td>1</td>\n",
              "      <td>1</td>\n",
              "      <td>-1</td>\n",
              "      <td>1</td>\n",
              "      <td>-1</td>\n",
              "      <td>1</td>\n",
              "      <td>0</td>\n",
              "      <td>-1</td>\n",
              "      <td>-1</td>\n",
              "    </tr>\n",
              "    <tr>\n",
              "      <th>3</th>\n",
              "      <td>4</td>\n",
              "      <td>1</td>\n",
              "      <td>0</td>\n",
              "      <td>1</td>\n",
              "      <td>1</td>\n",
              "      <td>1</td>\n",
              "      <td>-1</td>\n",
              "      <td>-1</td>\n",
              "      <td>-1</td>\n",
              "      <td>1</td>\n",
              "      <td>...</td>\n",
              "      <td>1</td>\n",
              "      <td>1</td>\n",
              "      <td>-1</td>\n",
              "      <td>-1</td>\n",
              "      <td>1</td>\n",
              "      <td>-1</td>\n",
              "      <td>1</td>\n",
              "      <td>-1</td>\n",
              "      <td>1</td>\n",
              "      <td>-1</td>\n",
              "    </tr>\n",
              "    <tr>\n",
              "      <th>4</th>\n",
              "      <td>5</td>\n",
              "      <td>1</td>\n",
              "      <td>0</td>\n",
              "      <td>-1</td>\n",
              "      <td>1</td>\n",
              "      <td>1</td>\n",
              "      <td>-1</td>\n",
              "      <td>1</td>\n",
              "      <td>1</td>\n",
              "      <td>-1</td>\n",
              "      <td>...</td>\n",
              "      <td>-1</td>\n",
              "      <td>1</td>\n",
              "      <td>-1</td>\n",
              "      <td>-1</td>\n",
              "      <td>0</td>\n",
              "      <td>-1</td>\n",
              "      <td>1</td>\n",
              "      <td>1</td>\n",
              "      <td>1</td>\n",
              "      <td>1</td>\n",
              "    </tr>\n",
              "  </tbody>\n",
              "</table>\n",
              "<p>5 rows × 32 columns</p>\n",
              "</div>\n",
              "      <button class=\"colab-df-convert\" onclick=\"convertToInteractive('df-2449ab6d-7e5e-4887-9505-518371837ee7')\"\n",
              "              title=\"Convert this dataframe to an interactive table.\"\n",
              "              style=\"display:none;\">\n",
              "        \n",
              "  <svg xmlns=\"http://www.w3.org/2000/svg\" height=\"24px\"viewBox=\"0 0 24 24\"\n",
              "       width=\"24px\">\n",
              "    <path d=\"M0 0h24v24H0V0z\" fill=\"none\"/>\n",
              "    <path d=\"M18.56 5.44l.94 2.06.94-2.06 2.06-.94-2.06-.94-.94-2.06-.94 2.06-2.06.94zm-11 1L8.5 8.5l.94-2.06 2.06-.94-2.06-.94L8.5 2.5l-.94 2.06-2.06.94zm10 10l.94 2.06.94-2.06 2.06-.94-2.06-.94-.94-2.06-.94 2.06-2.06.94z\"/><path d=\"M17.41 7.96l-1.37-1.37c-.4-.4-.92-.59-1.43-.59-.52 0-1.04.2-1.43.59L10.3 9.45l-7.72 7.72c-.78.78-.78 2.05 0 2.83L4 21.41c.39.39.9.59 1.41.59.51 0 1.02-.2 1.41-.59l7.78-7.78 2.81-2.81c.8-.78.8-2.07 0-2.86zM5.41 20L4 18.59l7.72-7.72 1.47 1.35L5.41 20z\"/>\n",
              "  </svg>\n",
              "      </button>\n",
              "      \n",
              "  <style>\n",
              "    .colab-df-container {\n",
              "      display:flex;\n",
              "      flex-wrap:wrap;\n",
              "      gap: 12px;\n",
              "    }\n",
              "\n",
              "    .colab-df-convert {\n",
              "      background-color: #E8F0FE;\n",
              "      border: none;\n",
              "      border-radius: 50%;\n",
              "      cursor: pointer;\n",
              "      display: none;\n",
              "      fill: #1967D2;\n",
              "      height: 32px;\n",
              "      padding: 0 0 0 0;\n",
              "      width: 32px;\n",
              "    }\n",
              "\n",
              "    .colab-df-convert:hover {\n",
              "      background-color: #E2EBFA;\n",
              "      box-shadow: 0px 1px 2px rgba(60, 64, 67, 0.3), 0px 1px 3px 1px rgba(60, 64, 67, 0.15);\n",
              "      fill: #174EA6;\n",
              "    }\n",
              "\n",
              "    [theme=dark] .colab-df-convert {\n",
              "      background-color: #3B4455;\n",
              "      fill: #D2E3FC;\n",
              "    }\n",
              "\n",
              "    [theme=dark] .colab-df-convert:hover {\n",
              "      background-color: #434B5C;\n",
              "      box-shadow: 0px 1px 3px 1px rgba(0, 0, 0, 0.15);\n",
              "      filter: drop-shadow(0px 1px 2px rgba(0, 0, 0, 0.3));\n",
              "      fill: #FFFFFF;\n",
              "    }\n",
              "  </style>\n",
              "\n",
              "      <script>\n",
              "        const buttonEl =\n",
              "          document.querySelector('#df-2449ab6d-7e5e-4887-9505-518371837ee7 button.colab-df-convert');\n",
              "        buttonEl.style.display =\n",
              "          google.colab.kernel.accessAllowed ? 'block' : 'none';\n",
              "\n",
              "        async function convertToInteractive(key) {\n",
              "          const element = document.querySelector('#df-2449ab6d-7e5e-4887-9505-518371837ee7');\n",
              "          const dataTable =\n",
              "            await google.colab.kernel.invokeFunction('convertToInteractive',\n",
              "                                                     [key], {});\n",
              "          if (!dataTable) return;\n",
              "\n",
              "          const docLinkHtml = 'Like what you see? Visit the ' +\n",
              "            '<a target=\"_blank\" href=https://colab.research.google.com/notebooks/data_table.ipynb>data table notebook</a>'\n",
              "            + ' to learn more about interactive tables.';\n",
              "          element.innerHTML = '';\n",
              "          dataTable['output_type'] = 'display_data';\n",
              "          await google.colab.output.renderOutput(dataTable, element);\n",
              "          const docLink = document.createElement('div');\n",
              "          docLink.innerHTML = docLinkHtml;\n",
              "          element.appendChild(docLink);\n",
              "        }\n",
              "      </script>\n",
              "    </div>\n",
              "  </div>\n",
              "  "
            ]
          },
          "metadata": {},
          "execution_count": 5
        }
      ]
    },
    {
      "cell_type": "markdown",
      "source": [
        "**Numerical Analysis**"
      ],
      "metadata": {
        "id": "SuulxxFprERp"
      }
    },
    {
      "cell_type": "code",
      "source": [
        "data.shape"
      ],
      "metadata": {
        "colab": {
          "base_uri": "https://localhost:8080/"
        },
        "id": "MH6PaUM8rCKY",
        "outputId": "ee3b0243-7879-4197-ba1e-b9094e1a4a38"
      },
      "execution_count": 6,
      "outputs": [
        {
          "output_type": "execute_result",
          "data": {
            "text/plain": [
              "(11055, 32)"
            ]
          },
          "metadata": {},
          "execution_count": 6
        }
      ]
    },
    {
      "cell_type": "code",
      "source": [
        "data.size"
      ],
      "metadata": {
        "colab": {
          "base_uri": "https://localhost:8080/"
        },
        "id": "bP9M0UjjrUHy",
        "outputId": "5c4c2806-915b-43ba-c218-bdbe589b7952"
      },
      "execution_count": 7,
      "outputs": [
        {
          "output_type": "execute_result",
          "data": {
            "text/plain": [
              "353760"
            ]
          },
          "metadata": {},
          "execution_count": 7
        }
      ]
    },
    {
      "cell_type": "code",
      "source": [
        "data.info()"
      ],
      "metadata": {
        "colab": {
          "base_uri": "https://localhost:8080/"
        },
        "id": "hX9ti4ORrWf2",
        "outputId": "c15a1114-2d6c-4e16-8cb5-89664350b04b"
      },
      "execution_count": 8,
      "outputs": [
        {
          "output_type": "stream",
          "name": "stdout",
          "text": [
            "<class 'pandas.core.frame.DataFrame'>\n",
            "RangeIndex: 11055 entries, 0 to 11054\n",
            "Data columns (total 32 columns):\n",
            " #   Column                       Non-Null Count  Dtype\n",
            "---  ------                       --------------  -----\n",
            " 0   index                        11055 non-null  int64\n",
            " 1   having_IPhaving_IP_Address   11055 non-null  int64\n",
            " 2   URLURL_Length                11055 non-null  int64\n",
            " 3   Shortining_Service           11055 non-null  int64\n",
            " 4   having_At_Symbol             11055 non-null  int64\n",
            " 5   double_slash_redirecting     11055 non-null  int64\n",
            " 6   Prefix_Suffix                11055 non-null  int64\n",
            " 7   having_Sub_Domain            11055 non-null  int64\n",
            " 8   SSLfinal_State               11055 non-null  int64\n",
            " 9   Domain_registeration_length  11055 non-null  int64\n",
            " 10  Favicon                      11055 non-null  int64\n",
            " 11  port                         11055 non-null  int64\n",
            " 12  HTTPS_token                  11055 non-null  int64\n",
            " 13  Request_URL                  11055 non-null  int64\n",
            " 14  URL_of_Anchor                11055 non-null  int64\n",
            " 15  Links_in_tags                11055 non-null  int64\n",
            " 16  SFH                          11055 non-null  int64\n",
            " 17  Submitting_to_email          11055 non-null  int64\n",
            " 18  Abnormal_URL                 11055 non-null  int64\n",
            " 19  Redirect                     11055 non-null  int64\n",
            " 20  on_mouseover                 11055 non-null  int64\n",
            " 21  RightClick                   11055 non-null  int64\n",
            " 22  popUpWidnow                  11055 non-null  int64\n",
            " 23  Iframe                       11055 non-null  int64\n",
            " 24  age_of_domain                11055 non-null  int64\n",
            " 25  DNSRecord                    11055 non-null  int64\n",
            " 26  web_traffic                  11055 non-null  int64\n",
            " 27  Page_Rank                    11055 non-null  int64\n",
            " 28  Google_Index                 11055 non-null  int64\n",
            " 29  Links_pointing_to_page       11055 non-null  int64\n",
            " 30  Statistical_report           11055 non-null  int64\n",
            " 31  Result                       11055 non-null  int64\n",
            "dtypes: int64(32)\n",
            "memory usage: 2.7 MB\n"
          ]
        }
      ]
    },
    {
      "cell_type": "code",
      "source": [
        "data.describe()"
      ],
      "metadata": {
        "colab": {
          "base_uri": "https://localhost:8080/",
          "height": 394
        },
        "id": "tpUOxFkxrZCj",
        "outputId": "57425787-2a82-4ac5-da84-287f0741a353"
      },
      "execution_count": 9,
      "outputs": [
        {
          "output_type": "execute_result",
          "data": {
            "text/plain": [
              "              index  having_IPhaving_IP_Address  URLURL_Length  \\\n",
              "count  11055.000000                11055.000000   11055.000000   \n",
              "mean    5528.000000                    0.313795      -0.633198   \n",
              "std     3191.447947                    0.949534       0.766095   \n",
              "min        1.000000                   -1.000000      -1.000000   \n",
              "25%     2764.500000                   -1.000000      -1.000000   \n",
              "50%     5528.000000                    1.000000      -1.000000   \n",
              "75%     8291.500000                    1.000000      -1.000000   \n",
              "max    11055.000000                    1.000000       1.000000   \n",
              "\n",
              "       Shortining_Service  having_At_Symbol  double_slash_redirecting  \\\n",
              "count        11055.000000      11055.000000              11055.000000   \n",
              "mean             0.738761          0.700588                  0.741474   \n",
              "std              0.673998          0.713598                  0.671011   \n",
              "min             -1.000000         -1.000000                 -1.000000   \n",
              "25%              1.000000          1.000000                  1.000000   \n",
              "50%              1.000000          1.000000                  1.000000   \n",
              "75%              1.000000          1.000000                  1.000000   \n",
              "max              1.000000          1.000000                  1.000000   \n",
              "\n",
              "       Prefix_Suffix  having_Sub_Domain  SSLfinal_State  \\\n",
              "count   11055.000000       11055.000000    11055.000000   \n",
              "mean       -0.734962           0.063953        0.250927   \n",
              "std         0.678139           0.817518        0.911892   \n",
              "min        -1.000000          -1.000000       -1.000000   \n",
              "25%        -1.000000          -1.000000       -1.000000   \n",
              "50%        -1.000000           0.000000        1.000000   \n",
              "75%        -1.000000           1.000000        1.000000   \n",
              "max         1.000000           1.000000        1.000000   \n",
              "\n",
              "       Domain_registeration_length  ...   popUpWidnow        Iframe  \\\n",
              "count                 11055.000000  ...  11055.000000  11055.000000   \n",
              "mean                     -0.336771  ...      0.613388      0.816915   \n",
              "std                       0.941629  ...      0.789818      0.576784   \n",
              "min                      -1.000000  ...     -1.000000     -1.000000   \n",
              "25%                      -1.000000  ...      1.000000      1.000000   \n",
              "50%                      -1.000000  ...      1.000000      1.000000   \n",
              "75%                       1.000000  ...      1.000000      1.000000   \n",
              "max                       1.000000  ...      1.000000      1.000000   \n",
              "\n",
              "       age_of_domain     DNSRecord   web_traffic     Page_Rank  Google_Index  \\\n",
              "count   11055.000000  11055.000000  11055.000000  11055.000000  11055.000000   \n",
              "mean        0.061239      0.377114      0.287291     -0.483673      0.721574   \n",
              "std         0.998168      0.926209      0.827733      0.875289      0.692369   \n",
              "min        -1.000000     -1.000000     -1.000000     -1.000000     -1.000000   \n",
              "25%        -1.000000     -1.000000      0.000000     -1.000000      1.000000   \n",
              "50%         1.000000      1.000000      1.000000     -1.000000      1.000000   \n",
              "75%         1.000000      1.000000      1.000000      1.000000      1.000000   \n",
              "max         1.000000      1.000000      1.000000      1.000000      1.000000   \n",
              "\n",
              "       Links_pointing_to_page  Statistical_report        Result  \n",
              "count            11055.000000        11055.000000  11055.000000  \n",
              "mean                 0.344007            0.719584      0.113885  \n",
              "std                  0.569944            0.694437      0.993539  \n",
              "min                 -1.000000           -1.000000     -1.000000  \n",
              "25%                  0.000000            1.000000     -1.000000  \n",
              "50%                  0.000000            1.000000      1.000000  \n",
              "75%                  1.000000            1.000000      1.000000  \n",
              "max                  1.000000            1.000000      1.000000  \n",
              "\n",
              "[8 rows x 32 columns]"
            ],
            "text/html": [
              "\n",
              "  <div id=\"df-31116b4f-fc84-4524-b6b5-edd54079b263\">\n",
              "    <div class=\"colab-df-container\">\n",
              "      <div>\n",
              "<style scoped>\n",
              "    .dataframe tbody tr th:only-of-type {\n",
              "        vertical-align: middle;\n",
              "    }\n",
              "\n",
              "    .dataframe tbody tr th {\n",
              "        vertical-align: top;\n",
              "    }\n",
              "\n",
              "    .dataframe thead th {\n",
              "        text-align: right;\n",
              "    }\n",
              "</style>\n",
              "<table border=\"1\" class=\"dataframe\">\n",
              "  <thead>\n",
              "    <tr style=\"text-align: right;\">\n",
              "      <th></th>\n",
              "      <th>index</th>\n",
              "      <th>having_IPhaving_IP_Address</th>\n",
              "      <th>URLURL_Length</th>\n",
              "      <th>Shortining_Service</th>\n",
              "      <th>having_At_Symbol</th>\n",
              "      <th>double_slash_redirecting</th>\n",
              "      <th>Prefix_Suffix</th>\n",
              "      <th>having_Sub_Domain</th>\n",
              "      <th>SSLfinal_State</th>\n",
              "      <th>Domain_registeration_length</th>\n",
              "      <th>...</th>\n",
              "      <th>popUpWidnow</th>\n",
              "      <th>Iframe</th>\n",
              "      <th>age_of_domain</th>\n",
              "      <th>DNSRecord</th>\n",
              "      <th>web_traffic</th>\n",
              "      <th>Page_Rank</th>\n",
              "      <th>Google_Index</th>\n",
              "      <th>Links_pointing_to_page</th>\n",
              "      <th>Statistical_report</th>\n",
              "      <th>Result</th>\n",
              "    </tr>\n",
              "  </thead>\n",
              "  <tbody>\n",
              "    <tr>\n",
              "      <th>count</th>\n",
              "      <td>11055.000000</td>\n",
              "      <td>11055.000000</td>\n",
              "      <td>11055.000000</td>\n",
              "      <td>11055.000000</td>\n",
              "      <td>11055.000000</td>\n",
              "      <td>11055.000000</td>\n",
              "      <td>11055.000000</td>\n",
              "      <td>11055.000000</td>\n",
              "      <td>11055.000000</td>\n",
              "      <td>11055.000000</td>\n",
              "      <td>...</td>\n",
              "      <td>11055.000000</td>\n",
              "      <td>11055.000000</td>\n",
              "      <td>11055.000000</td>\n",
              "      <td>11055.000000</td>\n",
              "      <td>11055.000000</td>\n",
              "      <td>11055.000000</td>\n",
              "      <td>11055.000000</td>\n",
              "      <td>11055.000000</td>\n",
              "      <td>11055.000000</td>\n",
              "      <td>11055.000000</td>\n",
              "    </tr>\n",
              "    <tr>\n",
              "      <th>mean</th>\n",
              "      <td>5528.000000</td>\n",
              "      <td>0.313795</td>\n",
              "      <td>-0.633198</td>\n",
              "      <td>0.738761</td>\n",
              "      <td>0.700588</td>\n",
              "      <td>0.741474</td>\n",
              "      <td>-0.734962</td>\n",
              "      <td>0.063953</td>\n",
              "      <td>0.250927</td>\n",
              "      <td>-0.336771</td>\n",
              "      <td>...</td>\n",
              "      <td>0.613388</td>\n",
              "      <td>0.816915</td>\n",
              "      <td>0.061239</td>\n",
              "      <td>0.377114</td>\n",
              "      <td>0.287291</td>\n",
              "      <td>-0.483673</td>\n",
              "      <td>0.721574</td>\n",
              "      <td>0.344007</td>\n",
              "      <td>0.719584</td>\n",
              "      <td>0.113885</td>\n",
              "    </tr>\n",
              "    <tr>\n",
              "      <th>std</th>\n",
              "      <td>3191.447947</td>\n",
              "      <td>0.949534</td>\n",
              "      <td>0.766095</td>\n",
              "      <td>0.673998</td>\n",
              "      <td>0.713598</td>\n",
              "      <td>0.671011</td>\n",
              "      <td>0.678139</td>\n",
              "      <td>0.817518</td>\n",
              "      <td>0.911892</td>\n",
              "      <td>0.941629</td>\n",
              "      <td>...</td>\n",
              "      <td>0.789818</td>\n",
              "      <td>0.576784</td>\n",
              "      <td>0.998168</td>\n",
              "      <td>0.926209</td>\n",
              "      <td>0.827733</td>\n",
              "      <td>0.875289</td>\n",
              "      <td>0.692369</td>\n",
              "      <td>0.569944</td>\n",
              "      <td>0.694437</td>\n",
              "      <td>0.993539</td>\n",
              "    </tr>\n",
              "    <tr>\n",
              "      <th>min</th>\n",
              "      <td>1.000000</td>\n",
              "      <td>-1.000000</td>\n",
              "      <td>-1.000000</td>\n",
              "      <td>-1.000000</td>\n",
              "      <td>-1.000000</td>\n",
              "      <td>-1.000000</td>\n",
              "      <td>-1.000000</td>\n",
              "      <td>-1.000000</td>\n",
              "      <td>-1.000000</td>\n",
              "      <td>-1.000000</td>\n",
              "      <td>...</td>\n",
              "      <td>-1.000000</td>\n",
              "      <td>-1.000000</td>\n",
              "      <td>-1.000000</td>\n",
              "      <td>-1.000000</td>\n",
              "      <td>-1.000000</td>\n",
              "      <td>-1.000000</td>\n",
              "      <td>-1.000000</td>\n",
              "      <td>-1.000000</td>\n",
              "      <td>-1.000000</td>\n",
              "      <td>-1.000000</td>\n",
              "    </tr>\n",
              "    <tr>\n",
              "      <th>25%</th>\n",
              "      <td>2764.500000</td>\n",
              "      <td>-1.000000</td>\n",
              "      <td>-1.000000</td>\n",
              "      <td>1.000000</td>\n",
              "      <td>1.000000</td>\n",
              "      <td>1.000000</td>\n",
              "      <td>-1.000000</td>\n",
              "      <td>-1.000000</td>\n",
              "      <td>-1.000000</td>\n",
              "      <td>-1.000000</td>\n",
              "      <td>...</td>\n",
              "      <td>1.000000</td>\n",
              "      <td>1.000000</td>\n",
              "      <td>-1.000000</td>\n",
              "      <td>-1.000000</td>\n",
              "      <td>0.000000</td>\n",
              "      <td>-1.000000</td>\n",
              "      <td>1.000000</td>\n",
              "      <td>0.000000</td>\n",
              "      <td>1.000000</td>\n",
              "      <td>-1.000000</td>\n",
              "    </tr>\n",
              "    <tr>\n",
              "      <th>50%</th>\n",
              "      <td>5528.000000</td>\n",
              "      <td>1.000000</td>\n",
              "      <td>-1.000000</td>\n",
              "      <td>1.000000</td>\n",
              "      <td>1.000000</td>\n",
              "      <td>1.000000</td>\n",
              "      <td>-1.000000</td>\n",
              "      <td>0.000000</td>\n",
              "      <td>1.000000</td>\n",
              "      <td>-1.000000</td>\n",
              "      <td>...</td>\n",
              "      <td>1.000000</td>\n",
              "      <td>1.000000</td>\n",
              "      <td>1.000000</td>\n",
              "      <td>1.000000</td>\n",
              "      <td>1.000000</td>\n",
              "      <td>-1.000000</td>\n",
              "      <td>1.000000</td>\n",
              "      <td>0.000000</td>\n",
              "      <td>1.000000</td>\n",
              "      <td>1.000000</td>\n",
              "    </tr>\n",
              "    <tr>\n",
              "      <th>75%</th>\n",
              "      <td>8291.500000</td>\n",
              "      <td>1.000000</td>\n",
              "      <td>-1.000000</td>\n",
              "      <td>1.000000</td>\n",
              "      <td>1.000000</td>\n",
              "      <td>1.000000</td>\n",
              "      <td>-1.000000</td>\n",
              "      <td>1.000000</td>\n",
              "      <td>1.000000</td>\n",
              "      <td>1.000000</td>\n",
              "      <td>...</td>\n",
              "      <td>1.000000</td>\n",
              "      <td>1.000000</td>\n",
              "      <td>1.000000</td>\n",
              "      <td>1.000000</td>\n",
              "      <td>1.000000</td>\n",
              "      <td>1.000000</td>\n",
              "      <td>1.000000</td>\n",
              "      <td>1.000000</td>\n",
              "      <td>1.000000</td>\n",
              "      <td>1.000000</td>\n",
              "    </tr>\n",
              "    <tr>\n",
              "      <th>max</th>\n",
              "      <td>11055.000000</td>\n",
              "      <td>1.000000</td>\n",
              "      <td>1.000000</td>\n",
              "      <td>1.000000</td>\n",
              "      <td>1.000000</td>\n",
              "      <td>1.000000</td>\n",
              "      <td>1.000000</td>\n",
              "      <td>1.000000</td>\n",
              "      <td>1.000000</td>\n",
              "      <td>1.000000</td>\n",
              "      <td>...</td>\n",
              "      <td>1.000000</td>\n",
              "      <td>1.000000</td>\n",
              "      <td>1.000000</td>\n",
              "      <td>1.000000</td>\n",
              "      <td>1.000000</td>\n",
              "      <td>1.000000</td>\n",
              "      <td>1.000000</td>\n",
              "      <td>1.000000</td>\n",
              "      <td>1.000000</td>\n",
              "      <td>1.000000</td>\n",
              "    </tr>\n",
              "  </tbody>\n",
              "</table>\n",
              "<p>8 rows × 32 columns</p>\n",
              "</div>\n",
              "      <button class=\"colab-df-convert\" onclick=\"convertToInteractive('df-31116b4f-fc84-4524-b6b5-edd54079b263')\"\n",
              "              title=\"Convert this dataframe to an interactive table.\"\n",
              "              style=\"display:none;\">\n",
              "        \n",
              "  <svg xmlns=\"http://www.w3.org/2000/svg\" height=\"24px\"viewBox=\"0 0 24 24\"\n",
              "       width=\"24px\">\n",
              "    <path d=\"M0 0h24v24H0V0z\" fill=\"none\"/>\n",
              "    <path d=\"M18.56 5.44l.94 2.06.94-2.06 2.06-.94-2.06-.94-.94-2.06-.94 2.06-2.06.94zm-11 1L8.5 8.5l.94-2.06 2.06-.94-2.06-.94L8.5 2.5l-.94 2.06-2.06.94zm10 10l.94 2.06.94-2.06 2.06-.94-2.06-.94-.94-2.06-.94 2.06-2.06.94z\"/><path d=\"M17.41 7.96l-1.37-1.37c-.4-.4-.92-.59-1.43-.59-.52 0-1.04.2-1.43.59L10.3 9.45l-7.72 7.72c-.78.78-.78 2.05 0 2.83L4 21.41c.39.39.9.59 1.41.59.51 0 1.02-.2 1.41-.59l7.78-7.78 2.81-2.81c.8-.78.8-2.07 0-2.86zM5.41 20L4 18.59l7.72-7.72 1.47 1.35L5.41 20z\"/>\n",
              "  </svg>\n",
              "      </button>\n",
              "      \n",
              "  <style>\n",
              "    .colab-df-container {\n",
              "      display:flex;\n",
              "      flex-wrap:wrap;\n",
              "      gap: 12px;\n",
              "    }\n",
              "\n",
              "    .colab-df-convert {\n",
              "      background-color: #E8F0FE;\n",
              "      border: none;\n",
              "      border-radius: 50%;\n",
              "      cursor: pointer;\n",
              "      display: none;\n",
              "      fill: #1967D2;\n",
              "      height: 32px;\n",
              "      padding: 0 0 0 0;\n",
              "      width: 32px;\n",
              "    }\n",
              "\n",
              "    .colab-df-convert:hover {\n",
              "      background-color: #E2EBFA;\n",
              "      box-shadow: 0px 1px 2px rgba(60, 64, 67, 0.3), 0px 1px 3px 1px rgba(60, 64, 67, 0.15);\n",
              "      fill: #174EA6;\n",
              "    }\n",
              "\n",
              "    [theme=dark] .colab-df-convert {\n",
              "      background-color: #3B4455;\n",
              "      fill: #D2E3FC;\n",
              "    }\n",
              "\n",
              "    [theme=dark] .colab-df-convert:hover {\n",
              "      background-color: #434B5C;\n",
              "      box-shadow: 0px 1px 3px 1px rgba(0, 0, 0, 0.15);\n",
              "      filter: drop-shadow(0px 1px 2px rgba(0, 0, 0, 0.3));\n",
              "      fill: #FFFFFF;\n",
              "    }\n",
              "  </style>\n",
              "\n",
              "      <script>\n",
              "        const buttonEl =\n",
              "          document.querySelector('#df-31116b4f-fc84-4524-b6b5-edd54079b263 button.colab-df-convert');\n",
              "        buttonEl.style.display =\n",
              "          google.colab.kernel.accessAllowed ? 'block' : 'none';\n",
              "\n",
              "        async function convertToInteractive(key) {\n",
              "          const element = document.querySelector('#df-31116b4f-fc84-4524-b6b5-edd54079b263');\n",
              "          const dataTable =\n",
              "            await google.colab.kernel.invokeFunction('convertToInteractive',\n",
              "                                                     [key], {});\n",
              "          if (!dataTable) return;\n",
              "\n",
              "          const docLinkHtml = 'Like what you see? Visit the ' +\n",
              "            '<a target=\"_blank\" href=https://colab.research.google.com/notebooks/data_table.ipynb>data table notebook</a>'\n",
              "            + ' to learn more about interactive tables.';\n",
              "          element.innerHTML = '';\n",
              "          dataTable['output_type'] = 'display_data';\n",
              "          await google.colab.output.renderOutput(dataTable, element);\n",
              "          const docLink = document.createElement('div');\n",
              "          docLink.innerHTML = docLinkHtml;\n",
              "          element.appendChild(docLink);\n",
              "        }\n",
              "      </script>\n",
              "    </div>\n",
              "  </div>\n",
              "  "
            ]
          },
          "metadata": {},
          "execution_count": 9
        }
      ]
    },
    {
      "cell_type": "code",
      "source": [
        "data.isnull().any()"
      ],
      "metadata": {
        "colab": {
          "base_uri": "https://localhost:8080/"
        },
        "id": "MuKopBxIrcnK",
        "outputId": "464ffb67-13ac-4fba-b40a-14ef9cc625fd"
      },
      "execution_count": 10,
      "outputs": [
        {
          "output_type": "execute_result",
          "data": {
            "text/plain": [
              "index                          False\n",
              "having_IPhaving_IP_Address     False\n",
              "URLURL_Length                  False\n",
              "Shortining_Service             False\n",
              "having_At_Symbol               False\n",
              "double_slash_redirecting       False\n",
              "Prefix_Suffix                  False\n",
              "having_Sub_Domain              False\n",
              "SSLfinal_State                 False\n",
              "Domain_registeration_length    False\n",
              "Favicon                        False\n",
              "port                           False\n",
              "HTTPS_token                    False\n",
              "Request_URL                    False\n",
              "URL_of_Anchor                  False\n",
              "Links_in_tags                  False\n",
              "SFH                            False\n",
              "Submitting_to_email            False\n",
              "Abnormal_URL                   False\n",
              "Redirect                       False\n",
              "on_mouseover                   False\n",
              "RightClick                     False\n",
              "popUpWidnow                    False\n",
              "Iframe                         False\n",
              "age_of_domain                  False\n",
              "DNSRecord                      False\n",
              "web_traffic                    False\n",
              "Page_Rank                      False\n",
              "Google_Index                   False\n",
              "Links_pointing_to_page         False\n",
              "Statistical_report             False\n",
              "Result                         False\n",
              "dtype: bool"
            ]
          },
          "metadata": {},
          "execution_count": 10
        }
      ]
    },
    {
      "cell_type": "code",
      "source": [
        "data.isnull().sum()"
      ],
      "metadata": {
        "colab": {
          "base_uri": "https://localhost:8080/"
        },
        "id": "yy7n9VQprfGA",
        "outputId": "17c8fe17-75ca-4366-be07-796fd8af56a4"
      },
      "execution_count": 11,
      "outputs": [
        {
          "output_type": "execute_result",
          "data": {
            "text/plain": [
              "index                          0\n",
              "having_IPhaving_IP_Address     0\n",
              "URLURL_Length                  0\n",
              "Shortining_Service             0\n",
              "having_At_Symbol               0\n",
              "double_slash_redirecting       0\n",
              "Prefix_Suffix                  0\n",
              "having_Sub_Domain              0\n",
              "SSLfinal_State                 0\n",
              "Domain_registeration_length    0\n",
              "Favicon                        0\n",
              "port                           0\n",
              "HTTPS_token                    0\n",
              "Request_URL                    0\n",
              "URL_of_Anchor                  0\n",
              "Links_in_tags                  0\n",
              "SFH                            0\n",
              "Submitting_to_email            0\n",
              "Abnormal_URL                   0\n",
              "Redirect                       0\n",
              "on_mouseover                   0\n",
              "RightClick                     0\n",
              "popUpWidnow                    0\n",
              "Iframe                         0\n",
              "age_of_domain                  0\n",
              "DNSRecord                      0\n",
              "web_traffic                    0\n",
              "Page_Rank                      0\n",
              "Google_Index                   0\n",
              "Links_pointing_to_page         0\n",
              "Statistical_report             0\n",
              "Result                         0\n",
              "dtype: int64"
            ]
          },
          "metadata": {},
          "execution_count": 11
        }
      ]
    },
    {
      "cell_type": "markdown",
      "source": [
        "**Splitting The Data**"
      ],
      "metadata": {
        "id": "sOKAfuL9rkWj"
      }
    },
    {
      "cell_type": "code",
      "source": [
        "x=data.iloc[:,1:31].values\n",
        "y=data.iloc[:,-1].values"
      ],
      "metadata": {
        "id": "tD1MkoVUrh95"
      },
      "execution_count": 12,
      "outputs": []
    },
    {
      "cell_type": "code",
      "source": [
        "x"
      ],
      "metadata": {
        "colab": {
          "base_uri": "https://localhost:8080/"
        },
        "id": "eU5_j9cmrpfR",
        "outputId": "ec528cc8-5348-402f-be42-bcb9ac6acece"
      },
      "execution_count": 13,
      "outputs": [
        {
          "output_type": "execute_result",
          "data": {
            "text/plain": [
              "array([[-1,  1,  1, ...,  1,  1, -1],\n",
              "       [ 1,  1,  1, ...,  1,  1,  1],\n",
              "       [ 1,  0,  1, ...,  1,  0, -1],\n",
              "       ...,\n",
              "       [ 1, -1,  1, ...,  1,  0,  1],\n",
              "       [-1, -1,  1, ...,  1,  1,  1],\n",
              "       [-1, -1,  1, ..., -1,  1, -1]])"
            ]
          },
          "metadata": {},
          "execution_count": 13
        }
      ]
    },
    {
      "cell_type": "code",
      "source": [
        "y"
      ],
      "metadata": {
        "colab": {
          "base_uri": "https://localhost:8080/"
        },
        "id": "bK0hZz7rrqoZ",
        "outputId": "d61fb3c5-262d-4ee1-dd6d-4384c246f5a2"
      },
      "execution_count": 14,
      "outputs": [
        {
          "output_type": "execute_result",
          "data": {
            "text/plain": [
              "array([-1, -1, -1, ..., -1, -1, -1])"
            ]
          },
          "metadata": {},
          "execution_count": 14
        }
      ]
    },
    {
      "cell_type": "code",
      "source": [
        "# Creating holders to store the model performance results\n",
        "ML_Model2 = []\n",
        "acc_train = []\n",
        "acc_test = []\n",
        "\n",
        "#function to call for storing the results\n",
        "def storeResults(model, a,b):\n",
        "  ML_Model2.append(model)\n",
        "  acc_train.append(round(a, 3))\n",
        "  acc_test.append(round(b, 3))"
      ],
      "metadata": {
        "id": "8o61_XP0rrCs"
      },
      "execution_count": 15,
      "outputs": []
    },
    {
      "cell_type": "markdown",
      "source": [
        "**Splitting data into train and test**"
      ],
      "metadata": {
        "id": "AikGY7QjrwJe"
      }
    },
    {
      "cell_type": "code",
      "source": [
        "from sklearn.model_selection import train_test_split\n",
        "x_train,x_test,y_train,y_test=train_test_split(x,y,test_size=0.2,random_state=0)"
      ],
      "metadata": {
        "id": "QIcFhthNrvjF"
      },
      "execution_count": 16,
      "outputs": []
    },
    {
      "cell_type": "markdown",
      "source": [
        "**MODEL BUILDING**"
      ],
      "metadata": {
        "id": "rhuyCtKfr4oN"
      }
    },
    {
      "cell_type": "code",
      "source": [
        "from sklearn.metrics import accuracy_score, classification_report"
      ],
      "metadata": {
        "id": "mTjCmO_jr2NV"
      },
      "execution_count": 17,
      "outputs": []
    },
    {
      "cell_type": "markdown",
      "source": [
        "**Multilayer Perceptrons**"
      ],
      "metadata": {
        "id": "p2vIjeZSsA5H"
      }
    },
    {
      "cell_type": "code",
      "source": [
        "from sklearn.neural_network import MLPClassifier\n",
        "mlp = MLPClassifier(alpha=0.001, hidden_layer_sizes=([100,100,100]))\n",
        "mlp.fit(x_train,y_train)\n",
        "prediction_dt = mlp.predict(x_test)\n",
        "accuracy_dt = accuracy_score(y_test,prediction_dt)*100\n",
        "scores_dict = {}"
      ],
      "metadata": {
        "id": "vL9Nb_p5r-gH"
      },
      "execution_count": 18,
      "outputs": []
    },
    {
      "cell_type": "code",
      "source": [
        "print('Accuracy score : ',accuracy_dt)\n",
        "scores_dict['Multilayer Perceptrons'] = accuracy_dt\n",
        "y_test_mlp = mlp.predict(x_test)\n",
        "y_train_mlp = mlp.predict(x_train)\n",
        "acc_train_mlp = accuracy_score(y_train,y_train_mlp)*100\n",
        "acc_test_mlp = accuracy_score(y_test,y_test_mlp)*100\n",
        "storeResults('Multilayer Perceptrons', acc_train_mlp, acc_test_mlp)\n",
        "print(classification_report(y_test,prediction_dt))"
      ],
      "metadata": {
        "colab": {
          "base_uri": "https://localhost:8080/"
        },
        "id": "aL6XvBiusE-o",
        "outputId": "0e6e5db8-1862-419a-aca0-ef7bf049a4bf"
      },
      "execution_count": 23,
      "outputs": [
        {
          "output_type": "stream",
          "name": "stdout",
          "text": [
            "Accuracy score :  96.65309814563547\n",
            "              precision    recall  f1-score   support\n",
            "\n",
            "          -1       0.98      0.95      0.96      1014\n",
            "           1       0.96      0.98      0.97      1197\n",
            "\n",
            "    accuracy                           0.97      2211\n",
            "   macro avg       0.97      0.96      0.97      2211\n",
            "weighted avg       0.97      0.97      0.97      2211\n",
            "\n"
          ]
        }
      ]
    },
    {
      "cell_type": "markdown",
      "source": [
        "**Logistic Regression**"
      ],
      "metadata": {
        "id": "M3sroiDbszaY"
      }
    },
    {
      "cell_type": "code",
      "source": [
        "from sklearn.linear_model import LogisticRegression\n",
        "lr=LogisticRegression()\n",
        "lr.fit(x_train,y_train)"
      ],
      "metadata": {
        "colab": {
          "base_uri": "https://localhost:8080/"
        },
        "id": "Teso2xSJsJ85",
        "outputId": "f1304c4f-6155-4cf5-bb70-4361d7c77ba1"
      },
      "execution_count": 25,
      "outputs": [
        {
          "output_type": "execute_result",
          "data": {
            "text/plain": [
              "LogisticRegression()"
            ]
          },
          "metadata": {},
          "execution_count": 25
        }
      ]
    },
    {
      "cell_type": "code",
      "source": [
        "y_pred1=lr.predict(x_test)\n",
        "from sklearn.metrics import accuracy_score\n",
        "y_test_lr = lr.predict(x_test)\n",
        "y_train_lr = lr.predict(x_train)\n",
        "acc_train_lr = accuracy_score(y_train,y_train_lr)*100\n",
        "acc_test_lr = accuracy_score(y_test,y_test_lr)*100\n",
        "storeResults('Logistic Regression', acc_train_lr, acc_test_lr)\n",
        "log_reg=accuracy_score(y_test,y_pred1)*100\n",
        "log_reg"
      ],
      "metadata": {
        "colab": {
          "base_uri": "https://localhost:8080/"
        },
        "id": "JOTBYPX9s3Tj",
        "outputId": "46b7b6b1-01f8-44d7-897d-44805ed9fa84"
      },
      "execution_count": 26,
      "outputs": [
        {
          "output_type": "execute_result",
          "data": {
            "text/plain": [
              "91.67797376752601"
            ]
          },
          "metadata": {},
          "execution_count": 26
        }
      ]
    },
    {
      "cell_type": "code",
      "source": [
        "scores_dict['LogisticRegression'] = log_reg"
      ],
      "metadata": {
        "id": "jTyCRRh0s6Tn"
      },
      "execution_count": 27,
      "outputs": []
    },
    {
      "cell_type": "markdown",
      "source": [
        "**RANDOM FOREST**"
      ],
      "metadata": {
        "id": "aTMIKNm1tBUF"
      }
    },
    {
      "cell_type": "code",
      "source": [
        "# Random Forest model\n",
        "from sklearn.ensemble import RandomForestClassifier\n",
        "\n",
        "# instantiate the model\n",
        "forest = RandomForestClassifier(max_depth=5)\n",
        "\n",
        "# fit the model \n",
        "forest.fit(x_train, y_train)"
      ],
      "metadata": {
        "colab": {
          "base_uri": "https://localhost:8080/"
        },
        "id": "OXpMfN8qs9my",
        "outputId": "2c82c730-f393-4890-b083-9f425a27546f"
      },
      "execution_count": 28,
      "outputs": [
        {
          "output_type": "execute_result",
          "data": {
            "text/plain": [
              "RandomForestClassifier(max_depth=5)"
            ]
          },
          "metadata": {},
          "execution_count": 28
        }
      ]
    },
    {
      "cell_type": "code",
      "source": [
        "#predicting the target value from the model for the samples\n",
        "y_test_forest = forest.predict(x_test)\n",
        "y_train_forest = forest.predict(x_train)"
      ],
      "metadata": {
        "id": "o7VbNqdYtFn9"
      },
      "execution_count": 29,
      "outputs": []
    },
    {
      "cell_type": "code",
      "source": [
        "#computing the accuracy of the model performance\n",
        "acc_train_forest = accuracy_score(y_train,y_train_forest)*100\n",
        "acc_test_forest = accuracy_score(y_test,y_test_forest)*100\n",
        "storeResults('Random Forest', acc_train_forest, acc_test_forest)\n",
        "print(\"Random forest: Accuracy on training Data: {:.3f}\".format(acc_train_forest))\n",
        "print(\"Random forest: Accuracy on test Data: {:.3f}\".format(acc_test_forest))"
      ],
      "metadata": {
        "colab": {
          "base_uri": "https://localhost:8080/"
        },
        "id": "Lm2kxCL5tJzm",
        "outputId": "362f16e5-5e49-4da9-d822-c81b58d17d80"
      },
      "execution_count": 30,
      "outputs": [
        {
          "output_type": "stream",
          "name": "stdout",
          "text": [
            "Random forest: Accuracy on training Data: 93.238\n",
            "Random forest: Accuracy on test Data: 92.492\n"
          ]
        }
      ]
    },
    {
      "cell_type": "markdown",
      "source": [
        "**Support vector machine model**"
      ],
      "metadata": {
        "id": "yB82L5zStSOY"
      }
    },
    {
      "cell_type": "code",
      "source": [
        "#Support vector machine model\n",
        "from sklearn.svm import SVC\n",
        "\n",
        "# instantiate the model\n",
        "svm = SVC(kernel='linear', C=1.0, random_state=12)\n",
        "#fit the model\n",
        "svm.fit(x_train, y_train)"
      ],
      "metadata": {
        "colab": {
          "base_uri": "https://localhost:8080/"
        },
        "id": "dOOLJf-ntMua",
        "outputId": "7109468b-5437-45d2-9496-01a001d51cc8"
      },
      "execution_count": 31,
      "outputs": [
        {
          "output_type": "execute_result",
          "data": {
            "text/plain": [
              "SVC(kernel='linear', random_state=12)"
            ]
          },
          "metadata": {},
          "execution_count": 31
        }
      ]
    },
    {
      "cell_type": "code",
      "source": [
        "#predicting the target value from the model for the samples\n",
        "y_test_svm = svm.predict(x_test)\n",
        "y_train_svm = svm.predict(x_train)"
      ],
      "metadata": {
        "id": "DDLidxX1tXYh"
      },
      "execution_count": 33,
      "outputs": []
    },
    {
      "cell_type": "code",
      "source": [
        "#computing the accuracy of the model performance\n",
        "acc_train_svm = accuracy_score(y_train,y_train_svm)*100\n",
        "acc_test_svm = accuracy_score(y_test,y_test_svm)*100\n",
        "\n",
        "print(\"SVM: Accuracy on training Data: {:.3f}\".format(acc_train_svm))\n",
        "print(\"SVM : Accuracy on test Data: {:.3f}\".format(acc_test_svm))\n",
        "storeResults('SVM', acc_train_svm, acc_test_svm)"
      ],
      "metadata": {
        "colab": {
          "base_uri": "https://localhost:8080/"
        },
        "id": "xqkHgMvvtaA1",
        "outputId": "d93e78fd-584d-4dee-f1a9-54debf2d9fb2"
      },
      "execution_count": 34,
      "outputs": [
        {
          "output_type": "stream",
          "name": "stdout",
          "text": [
            "SVM: Accuracy on training Data: 93.069\n",
            "SVM : Accuracy on test Data: 91.814\n"
          ]
        }
      ]
    },
    {
      "cell_type": "markdown",
      "source": [
        "**COMPARISON OF MODELS**"
      ],
      "metadata": {
        "id": "nPbcjQVXtoR2"
      }
    },
    {
      "cell_type": "code",
      "source": [
        "results = pd.DataFrame({ 'ML Model': ML_Model2,    \n",
        "    'Train Accuracy': acc_train,\n",
        "    'Test Accuracy': acc_test})\n",
        "results"
      ],
      "metadata": {
        "colab": {
          "base_uri": "https://localhost:8080/",
          "height": 206
        },
        "id": "WgUUJblitk2q",
        "outputId": "8940a451-8fc0-4f4a-bb14-8a09995bd628"
      },
      "execution_count": 36,
      "outputs": [
        {
          "output_type": "execute_result",
          "data": {
            "text/plain": [
              "                 ML Model  Train Accuracy  Test Accuracy\n",
              "0  Multilayer Perceptrons          98.971         96.653\n",
              "1  Multilayer Perceptrons          98.971         96.653\n",
              "2     Logistic Regression          93.193         91.678\n",
              "3           Random Forest          93.238         92.492\n",
              "4                     SVM          93.069         91.814"
            ],
            "text/html": [
              "\n",
              "  <div id=\"df-9bf22df7-7aca-40f1-b8c5-c57d2ac73b4f\">\n",
              "    <div class=\"colab-df-container\">\n",
              "      <div>\n",
              "<style scoped>\n",
              "    .dataframe tbody tr th:only-of-type {\n",
              "        vertical-align: middle;\n",
              "    }\n",
              "\n",
              "    .dataframe tbody tr th {\n",
              "        vertical-align: top;\n",
              "    }\n",
              "\n",
              "    .dataframe thead th {\n",
              "        text-align: right;\n",
              "    }\n",
              "</style>\n",
              "<table border=\"1\" class=\"dataframe\">\n",
              "  <thead>\n",
              "    <tr style=\"text-align: right;\">\n",
              "      <th></th>\n",
              "      <th>ML Model</th>\n",
              "      <th>Train Accuracy</th>\n",
              "      <th>Test Accuracy</th>\n",
              "    </tr>\n",
              "  </thead>\n",
              "  <tbody>\n",
              "    <tr>\n",
              "      <th>0</th>\n",
              "      <td>Multilayer Perceptrons</td>\n",
              "      <td>98.971</td>\n",
              "      <td>96.653</td>\n",
              "    </tr>\n",
              "    <tr>\n",
              "      <th>1</th>\n",
              "      <td>Multilayer Perceptrons</td>\n",
              "      <td>98.971</td>\n",
              "      <td>96.653</td>\n",
              "    </tr>\n",
              "    <tr>\n",
              "      <th>2</th>\n",
              "      <td>Logistic Regression</td>\n",
              "      <td>93.193</td>\n",
              "      <td>91.678</td>\n",
              "    </tr>\n",
              "    <tr>\n",
              "      <th>3</th>\n",
              "      <td>Random Forest</td>\n",
              "      <td>93.238</td>\n",
              "      <td>92.492</td>\n",
              "    </tr>\n",
              "    <tr>\n",
              "      <th>4</th>\n",
              "      <td>SVM</td>\n",
              "      <td>93.069</td>\n",
              "      <td>91.814</td>\n",
              "    </tr>\n",
              "  </tbody>\n",
              "</table>\n",
              "</div>\n",
              "      <button class=\"colab-df-convert\" onclick=\"convertToInteractive('df-9bf22df7-7aca-40f1-b8c5-c57d2ac73b4f')\"\n",
              "              title=\"Convert this dataframe to an interactive table.\"\n",
              "              style=\"display:none;\">\n",
              "        \n",
              "  <svg xmlns=\"http://www.w3.org/2000/svg\" height=\"24px\"viewBox=\"0 0 24 24\"\n",
              "       width=\"24px\">\n",
              "    <path d=\"M0 0h24v24H0V0z\" fill=\"none\"/>\n",
              "    <path d=\"M18.56 5.44l.94 2.06.94-2.06 2.06-.94-2.06-.94-.94-2.06-.94 2.06-2.06.94zm-11 1L8.5 8.5l.94-2.06 2.06-.94-2.06-.94L8.5 2.5l-.94 2.06-2.06.94zm10 10l.94 2.06.94-2.06 2.06-.94-2.06-.94-.94-2.06-.94 2.06-2.06.94z\"/><path d=\"M17.41 7.96l-1.37-1.37c-.4-.4-.92-.59-1.43-.59-.52 0-1.04.2-1.43.59L10.3 9.45l-7.72 7.72c-.78.78-.78 2.05 0 2.83L4 21.41c.39.39.9.59 1.41.59.51 0 1.02-.2 1.41-.59l7.78-7.78 2.81-2.81c.8-.78.8-2.07 0-2.86zM5.41 20L4 18.59l7.72-7.72 1.47 1.35L5.41 20z\"/>\n",
              "  </svg>\n",
              "      </button>\n",
              "      \n",
              "  <style>\n",
              "    .colab-df-container {\n",
              "      display:flex;\n",
              "      flex-wrap:wrap;\n",
              "      gap: 12px;\n",
              "    }\n",
              "\n",
              "    .colab-df-convert {\n",
              "      background-color: #E8F0FE;\n",
              "      border: none;\n",
              "      border-radius: 50%;\n",
              "      cursor: pointer;\n",
              "      display: none;\n",
              "      fill: #1967D2;\n",
              "      height: 32px;\n",
              "      padding: 0 0 0 0;\n",
              "      width: 32px;\n",
              "    }\n",
              "\n",
              "    .colab-df-convert:hover {\n",
              "      background-color: #E2EBFA;\n",
              "      box-shadow: 0px 1px 2px rgba(60, 64, 67, 0.3), 0px 1px 3px 1px rgba(60, 64, 67, 0.15);\n",
              "      fill: #174EA6;\n",
              "    }\n",
              "\n",
              "    [theme=dark] .colab-df-convert {\n",
              "      background-color: #3B4455;\n",
              "      fill: #D2E3FC;\n",
              "    }\n",
              "\n",
              "    [theme=dark] .colab-df-convert:hover {\n",
              "      background-color: #434B5C;\n",
              "      box-shadow: 0px 1px 3px 1px rgba(0, 0, 0, 0.15);\n",
              "      filter: drop-shadow(0px 1px 2px rgba(0, 0, 0, 0.3));\n",
              "      fill: #FFFFFF;\n",
              "    }\n",
              "  </style>\n",
              "\n",
              "      <script>\n",
              "        const buttonEl =\n",
              "          document.querySelector('#df-9bf22df7-7aca-40f1-b8c5-c57d2ac73b4f button.colab-df-convert');\n",
              "        buttonEl.style.display =\n",
              "          google.colab.kernel.accessAllowed ? 'block' : 'none';\n",
              "\n",
              "        async function convertToInteractive(key) {\n",
              "          const element = document.querySelector('#df-9bf22df7-7aca-40f1-b8c5-c57d2ac73b4f');\n",
              "          const dataTable =\n",
              "            await google.colab.kernel.invokeFunction('convertToInteractive',\n",
              "                                                     [key], {});\n",
              "          if (!dataTable) return;\n",
              "\n",
              "          const docLinkHtml = 'Like what you see? Visit the ' +\n",
              "            '<a target=\"_blank\" href=https://colab.research.google.com/notebooks/data_table.ipynb>data table notebook</a>'\n",
              "            + ' to learn more about interactive tables.';\n",
              "          element.innerHTML = '';\n",
              "          dataTable['output_type'] = 'display_data';\n",
              "          await google.colab.output.renderOutput(dataTable, element);\n",
              "          const docLink = document.createElement('div');\n",
              "          docLink.innerHTML = docLinkHtml;\n",
              "          element.appendChild(docLink);\n",
              "        }\n",
              "      </script>\n",
              "    </div>\n",
              "  </div>\n",
              "  "
            ]
          },
          "metadata": {},
          "execution_count": 36
        }
      ]
    },
    {
      "cell_type": "code",
      "source": [
        "import matplotlib.pyplot as plt\n",
        "plt.bar(ML_Model2,acc_test,width=0.3,color=['green','blue','red','red'])"
      ],
      "metadata": {
        "colab": {
          "base_uri": "https://localhost:8080/",
          "height": 283
        },
        "id": "n4jISeKuts4h",
        "outputId": "0399b583-6722-41fd-dfe7-d7b7265112b9"
      },
      "execution_count": 37,
      "outputs": [
        {
          "output_type": "execute_result",
          "data": {
            "text/plain": [
              "<BarContainer object of 5 artists>"
            ]
          },
          "metadata": {},
          "execution_count": 37
        },
        {
          "output_type": "display_data",
          "data": {
            "text/plain": [
              "<Figure size 432x288 with 1 Axes>"
            ],
            "image/png": "[encoded data removed]"
          },
          "metadata": {
            "needs_background": "light"
          }
        }
      ]
    },
    {
      "cell_type": "markdown",
      "source": [
        "**CONCLUSION**\n",
        "\n",
        "Based on different Algorithms we choose Multilayer Perceptrons (MLP's) because it gives better accuracy compared to other Models"
      ],
      "metadata": {
        "id": "ASFd5WJ5t5d7"
      }
    }
  ]
}